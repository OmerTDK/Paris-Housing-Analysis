{
 "cells": [
  {
   "cell_type": "markdown",
   "id": "01d3874c",
   "metadata": {},
   "source": [
    "Course: Programming for Data Analytics\n",
    "- Name: Muhammad Umar Uz Zaman\n",
    "- Student ID: 1197819\n",
    "- Goal: EDA Analysis of the given dataset"
   ]
  }
 ],
 "metadata": {
  "language_info": {
   "name": "python"
  }
 },
 "nbformat": 4,
 "nbformat_minor": 5
}
