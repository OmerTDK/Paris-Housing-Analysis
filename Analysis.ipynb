{
 "cells": [
  {
   "cell_type": "markdown",
   "id": "01d3874c",
   "metadata": {},
   "source": [
    "_Course: Programming for Data Analytics_\n",
    "- Name: Muhammad Umar Uz Zaman\n",
    "- Student ID: 1197819\n",
    "- Goal: EDA Analysis of the given dataset to predict future housing market trends"
   ]
  },
  {
   "cell_type": "code",
   "execution_count": 1,
   "id": "dbcaa340",
   "metadata": {},
   "outputs": [],
   "source": [
    "import pandas as pd\n",
    "import numpy as np\n",
    "import matplotlib.pyplot as plt\n",
    "import seaborn as sns"
   ]
  },
  {
   "cell_type": "code",
   "execution_count": 6,
   "id": "980d94e9",
   "metadata": {},
   "outputs": [
    {
     "name": "stdout",
     "output_type": "stream",
     "text": [
      "<class 'pandas.core.frame.DataFrame'>\n",
      "RangeIndex: 19999 entries, 0 to 19998\n",
      "Data columns (total 11 columns):\n",
      " #   Column            Non-Null Count  Dtype  \n",
      "---  ------            --------------  -----  \n",
      " 0   price             19995 non-null  float64\n",
      " 1   bedrooms          19984 non-null  float64\n",
      " 2   bathrooms         19988 non-null  float64\n",
      " 3   sqft_living       19998 non-null  float64\n",
      " 4   sqft_total        19994 non-null  float64\n",
      " 5   floors            19999 non-null  float64\n",
      " 6   condition         19998 non-null  float64\n",
      " 7   grade             19999 non-null  int64  \n",
      " 8   built             19998 non-null  float64\n",
      " 9   renovated         19999 non-null  int64  \n",
      " 10  living_area_sqft  19993 non-null  float64\n",
      "dtypes: float64(9), int64(2)\n",
      "memory usage: 1.7 MB\n"
     ]
    }
   ],
   "source": [
    "# Loading dataset in to start analysis (I changed the name of the csv for ease) and checking it out\n",
    "df = pd.read_csv(\"Dataset.csv\")\n",
    "df.head()\n",
    "df.info()"
   ]
  },
  {
   "cell_type": "code",
   "execution_count": 32,
   "id": "91559415",
   "metadata": {},
   "outputs": [
    {
     "data": {
      "text/html": [
       "<div>\n",
       "<style scoped>\n",
       "    .dataframe tbody tr th:only-of-type {\n",
       "        vertical-align: middle;\n",
       "    }\n",
       "\n",
       "    .dataframe tbody tr th {\n",
       "        vertical-align: top;\n",
       "    }\n",
       "\n",
       "    .dataframe thead th {\n",
       "        text-align: right;\n",
       "    }\n",
       "</style>\n",
       "<table border=\"1\" class=\"dataframe\">\n",
       "  <thead>\n",
       "    <tr style=\"text-align: right;\">\n",
       "      <th></th>\n",
       "      <th>price</th>\n",
       "      <th>bedrooms</th>\n",
       "      <th>bathrooms</th>\n",
       "      <th>sqft_living</th>\n",
       "      <th>sqft_total</th>\n",
       "      <th>floors</th>\n",
       "      <th>condition</th>\n",
       "      <th>grade</th>\n",
       "      <th>built</th>\n",
       "      <th>renovated</th>\n",
       "      <th>living_area_sqft</th>\n",
       "    </tr>\n",
       "  </thead>\n",
       "  <tbody>\n",
       "    <tr>\n",
       "      <th>count</th>\n",
       "      <td>1.999500e+04</td>\n",
       "      <td>19995.000000</td>\n",
       "      <td>19995.000000</td>\n",
       "      <td>19995.000000</td>\n",
       "      <td>1.999500e+04</td>\n",
       "      <td>19995.000000</td>\n",
       "      <td>19994.000000</td>\n",
       "      <td>19995.000000</td>\n",
       "      <td>19994.000000</td>\n",
       "      <td>19995.000000</td>\n",
       "      <td>19989.000000</td>\n",
       "    </tr>\n",
       "    <tr>\n",
       "      <th>mean</th>\n",
       "      <td>5.353944e+05</td>\n",
       "      <td>3.366242</td>\n",
       "      <td>2.072893</td>\n",
       "      <td>2057.860465</td>\n",
       "      <td>1.560572e+04</td>\n",
       "      <td>1.444811</td>\n",
       "      <td>3.441783</td>\n",
       "      <td>7.605451</td>\n",
       "      <td>1967.948835</td>\n",
       "      <td>90.830208</td>\n",
       "      <td>1974.159138</td>\n",
       "    </tr>\n",
       "    <tr>\n",
       "      <th>std</th>\n",
       "      <td>3.659217e+05</td>\n",
       "      <td>0.929898</td>\n",
       "      <td>0.760998</td>\n",
       "      <td>905.621925</td>\n",
       "      <td>4.177481e+04</td>\n",
       "      <td>0.516670</td>\n",
       "      <td>0.665501</td>\n",
       "      <td>1.172447</td>\n",
       "      <td>28.317913</td>\n",
       "      <td>415.987523</td>\n",
       "      <td>675.214074</td>\n",
       "    </tr>\n",
       "    <tr>\n",
       "      <th>min</th>\n",
       "      <td>7.500000e+04</td>\n",
       "      <td>1.000000</td>\n",
       "      <td>0.500000</td>\n",
       "      <td>290.000000</td>\n",
       "      <td>5.200000e+02</td>\n",
       "      <td>1.000000</td>\n",
       "      <td>1.000000</td>\n",
       "      <td>1.000000</td>\n",
       "      <td>1900.000000</td>\n",
       "      <td>0.000000</td>\n",
       "      <td>399.000000</td>\n",
       "    </tr>\n",
       "    <tr>\n",
       "      <th>25%</th>\n",
       "      <td>3.170000e+05</td>\n",
       "      <td>3.000000</td>\n",
       "      <td>1.500000</td>\n",
       "      <td>1420.000000</td>\n",
       "      <td>5.350000e+03</td>\n",
       "      <td>1.000000</td>\n",
       "      <td>3.000000</td>\n",
       "      <td>7.000000</td>\n",
       "      <td>1950.000000</td>\n",
       "      <td>0.000000</td>\n",
       "      <td>1490.000000</td>\n",
       "    </tr>\n",
       "    <tr>\n",
       "      <th>50%</th>\n",
       "      <td>4.499000e+05</td>\n",
       "      <td>3.000000</td>\n",
       "      <td>2.000000</td>\n",
       "      <td>1900.000000</td>\n",
       "      <td>7.814000e+03</td>\n",
       "      <td>1.000000</td>\n",
       "      <td>3.000000</td>\n",
       "      <td>7.000000</td>\n",
       "      <td>1969.000000</td>\n",
       "      <td>0.000000</td>\n",
       "      <td>1830.000000</td>\n",
       "    </tr>\n",
       "    <tr>\n",
       "      <th>75%</th>\n",
       "      <td>6.400000e+05</td>\n",
       "      <td>4.000000</td>\n",
       "      <td>2.500000</td>\n",
       "      <td>2510.000000</td>\n",
       "      <td>1.100000e+04</td>\n",
       "      <td>2.000000</td>\n",
       "      <td>4.000000</td>\n",
       "      <td>8.000000</td>\n",
       "      <td>1991.000000</td>\n",
       "      <td>0.000000</td>\n",
       "      <td>2330.000000</td>\n",
       "    </tr>\n",
       "    <tr>\n",
       "      <th>max</th>\n",
       "      <td>7.700000e+06</td>\n",
       "      <td>33.000000</td>\n",
       "      <td>8.000000</td>\n",
       "      <td>13540.000000</td>\n",
       "      <td>1.651359e+06</td>\n",
       "      <td>3.500000</td>\n",
       "      <td>5.000000</td>\n",
       "      <td>13.000000</td>\n",
       "      <td>2015.000000</td>\n",
       "      <td>2015.000000</td>\n",
       "      <td>6210.000000</td>\n",
       "    </tr>\n",
       "  </tbody>\n",
       "</table>\n",
       "</div>"
      ],
      "text/plain": [
       "              price      bedrooms     bathrooms   sqft_living    sqft_total  \\\n",
       "count  1.999500e+04  19995.000000  19995.000000  19995.000000  1.999500e+04   \n",
       "mean   5.353944e+05      3.366242      2.072893   2057.860465  1.560572e+04   \n",
       "std    3.659217e+05      0.929898      0.760998    905.621925  4.177481e+04   \n",
       "min    7.500000e+04      1.000000      0.500000    290.000000  5.200000e+02   \n",
       "25%    3.170000e+05      3.000000      1.500000   1420.000000  5.350000e+03   \n",
       "50%    4.499000e+05      3.000000      2.000000   1900.000000  7.814000e+03   \n",
       "75%    6.400000e+05      4.000000      2.500000   2510.000000  1.100000e+04   \n",
       "max    7.700000e+06     33.000000      8.000000  13540.000000  1.651359e+06   \n",
       "\n",
       "             floors     condition         grade         built     renovated  \\\n",
       "count  19995.000000  19994.000000  19995.000000  19994.000000  19995.000000   \n",
       "mean       1.444811      3.441783      7.605451   1967.948835     90.830208   \n",
       "std        0.516670      0.665501      1.172447     28.317913    415.987523   \n",
       "min        1.000000      1.000000      1.000000   1900.000000      0.000000   \n",
       "25%        1.000000      3.000000      7.000000   1950.000000      0.000000   \n",
       "50%        1.000000      3.000000      7.000000   1969.000000      0.000000   \n",
       "75%        2.000000      4.000000      8.000000   1991.000000      0.000000   \n",
       "max        3.500000      5.000000     13.000000   2015.000000   2015.000000   \n",
       "\n",
       "       living_area_sqft  \n",
       "count      19989.000000  \n",
       "mean        1974.159138  \n",
       "std          675.214074  \n",
       "min          399.000000  \n",
       "25%         1490.000000  \n",
       "50%         1830.000000  \n",
       "75%         2330.000000  \n",
       "max         6210.000000  "
      ]
     },
     "execution_count": 32,
     "metadata": {},
     "output_type": "execute_result"
    }
   ],
   "source": [
    "# Summary statistics\n",
    "df.describe()"
   ]
  },
  {
   "cell_type": "code",
   "execution_count": 8,
   "id": "b91f6341",
   "metadata": {},
   "outputs": [
    {
     "data": {
      "text/html": [
       "<div>\n",
       "<style scoped>\n",
       "    .dataframe tbody tr th:only-of-type {\n",
       "        vertical-align: middle;\n",
       "    }\n",
       "\n",
       "    .dataframe tbody tr th {\n",
       "        vertical-align: top;\n",
       "    }\n",
       "\n",
       "    .dataframe thead th {\n",
       "        text-align: right;\n",
       "    }\n",
       "</style>\n",
       "<table border=\"1\" class=\"dataframe\">\n",
       "  <thead>\n",
       "    <tr style=\"text-align: right;\">\n",
       "      <th></th>\n",
       "      <th>price</th>\n",
       "      <th>bedrooms</th>\n",
       "      <th>bathrooms</th>\n",
       "      <th>sqft_living</th>\n",
       "      <th>sqft_total</th>\n",
       "      <th>floors</th>\n",
       "      <th>condition</th>\n",
       "      <th>grade</th>\n",
       "      <th>built</th>\n",
       "      <th>renovated</th>\n",
       "      <th>living_area_sqft</th>\n",
       "    </tr>\n",
       "  </thead>\n",
       "  <tbody>\n",
       "    <tr>\n",
       "      <th>0</th>\n",
       "      <td>221900.0</td>\n",
       "      <td>3.0</td>\n",
       "      <td>1.0</td>\n",
       "      <td>1180.0</td>\n",
       "      <td>5650.0</td>\n",
       "      <td>1.0</td>\n",
       "      <td>3.0</td>\n",
       "      <td>7</td>\n",
       "      <td>1955.0</td>\n",
       "      <td>0</td>\n",
       "      <td>1340.0</td>\n",
       "    </tr>\n",
       "    <tr>\n",
       "      <th>1</th>\n",
       "      <td>538000.0</td>\n",
       "      <td>3.0</td>\n",
       "      <td>NaN</td>\n",
       "      <td>2570.0</td>\n",
       "      <td>7242.0</td>\n",
       "      <td>2.0</td>\n",
       "      <td>3.0</td>\n",
       "      <td>7</td>\n",
       "      <td>1951.0</td>\n",
       "      <td>1991</td>\n",
       "      <td>1690.0</td>\n",
       "    </tr>\n",
       "    <tr>\n",
       "      <th>2</th>\n",
       "      <td>180000.0</td>\n",
       "      <td>2.0</td>\n",
       "      <td>1.0</td>\n",
       "      <td>770.0</td>\n",
       "      <td>10000.0</td>\n",
       "      <td>1.0</td>\n",
       "      <td>3.0</td>\n",
       "      <td>6</td>\n",
       "      <td>1933.0</td>\n",
       "      <td>0</td>\n",
       "      <td>2720.0</td>\n",
       "    </tr>\n",
       "    <tr>\n",
       "      <th>3</th>\n",
       "      <td>604000.0</td>\n",
       "      <td>4.0</td>\n",
       "      <td>3.0</td>\n",
       "      <td>1960.0</td>\n",
       "      <td>5000.0</td>\n",
       "      <td>1.0</td>\n",
       "      <td>5.0</td>\n",
       "      <td>7</td>\n",
       "      <td>1965.0</td>\n",
       "      <td>0</td>\n",
       "      <td>1360.0</td>\n",
       "    </tr>\n",
       "    <tr>\n",
       "      <th>4</th>\n",
       "      <td>510000.0</td>\n",
       "      <td>3.0</td>\n",
       "      <td>2.0</td>\n",
       "      <td>1680.0</td>\n",
       "      <td>8080.0</td>\n",
       "      <td>1.0</td>\n",
       "      <td>3.0</td>\n",
       "      <td>8</td>\n",
       "      <td>1987.0</td>\n",
       "      <td>0</td>\n",
       "      <td>1800.0</td>\n",
       "    </tr>\n",
       "  </tbody>\n",
       "</table>\n",
       "</div>"
      ],
      "text/plain": [
       "      price  bedrooms  bathrooms  sqft_living  sqft_total  floors  condition  \\\n",
       "0  221900.0       3.0        1.0       1180.0      5650.0     1.0        3.0   \n",
       "1  538000.0       3.0        NaN       2570.0      7242.0     2.0        3.0   \n",
       "2  180000.0       2.0        1.0        770.0     10000.0     1.0        3.0   \n",
       "3  604000.0       4.0        3.0       1960.0      5000.0     1.0        5.0   \n",
       "4  510000.0       3.0        2.0       1680.0      8080.0     1.0        3.0   \n",
       "\n",
       "   grade   built  renovated  living_area_sqft  \n",
       "0      7  1955.0          0            1340.0  \n",
       "1      7  1951.0       1991            1690.0  \n",
       "2      6  1933.0          0            2720.0  \n",
       "3      7  1965.0          0            1360.0  \n",
       "4      8  1987.0          0            1800.0  "
      ]
     },
     "execution_count": 8,
     "metadata": {},
     "output_type": "execute_result"
    }
   ],
   "source": [
    "df.head()"
   ]
  },
  {
   "cell_type": "code",
   "execution_count": null,
   "id": "1cebd42a",
   "metadata": {},
   "outputs": [
    {
     "data": {
      "text/plain": [
       "price               float64\n",
       "bedrooms            float64\n",
       "bathrooms           float64\n",
       "sqft_living         float64\n",
       "sqft_total          float64\n",
       "floors              float64\n",
       "condition           float64\n",
       "grade                 int64\n",
       "built               float64\n",
       "renovated             int64\n",
       "living_area_sqft    float64\n",
       "dtype: object"
      ]
     },
     "execution_count": 9,
     "metadata": {},
     "output_type": "execute_result"
    }
   ],
   "source": [
    "# Let's check if all the data types are correct for each column\n",
    "df.dtypes"
   ]
  },
  {
   "cell_type": "code",
   "execution_count": 16,
   "id": "28371c7f",
   "metadata": {},
   "outputs": [
    {
     "data": {
      "text/plain": [
       "count    1.999500e+04\n",
       "mean     5.353944e+05\n",
       "std      3.659217e+05\n",
       "min      7.500000e+04\n",
       "25%      3.170000e+05\n",
       "50%      4.499000e+05\n",
       "75%      6.400000e+05\n",
       "max      7.700000e+06\n",
       "Name: price, dtype: float64"
      ]
     },
     "execution_count": 16,
     "metadata": {},
     "output_type": "execute_result"
    }
   ],
   "source": [
    "df['price'].describe()"
   ]
  },
  {
   "cell_type": "code",
   "execution_count": 18,
   "id": "b2176cde",
   "metadata": {},
   "outputs": [
    {
     "data": {
      "text/plain": [
       "True"
      ]
     },
     "execution_count": 18,
     "metadata": {},
     "output_type": "execute_result"
    }
   ],
   "source": [
    "# Checking if all price value are integers and if any decimals are present\n",
    "(df['price'] % 1 != 0).any()"
   ]
  },
  {
   "cell_type": "markdown",
   "id": "cc5ad869",
   "metadata": {},
   "source": [
    "Since price has all integers. No decimals we can convert it to int64"
   ]
  },
  {
   "cell_type": "code",
   "execution_count": 20,
   "id": "6eaa0ae0",
   "metadata": {},
   "outputs": [],
   "source": [
    "# So I tried to convert but since we have NaN (Null) values I cant. So let's deal with them first.\n",
    "# df['price'] = df['price'].astype('int64')"
   ]
  },
  {
   "cell_type": "code",
   "execution_count": 21,
   "id": "977de92d",
   "metadata": {},
   "outputs": [
    {
     "data": {
      "text/plain": [
       "price                4\n",
       "bedrooms            15\n",
       "bathrooms           11\n",
       "sqft_living          1\n",
       "sqft_total           5\n",
       "floors               0\n",
       "condition            1\n",
       "grade                0\n",
       "built                1\n",
       "renovated            0\n",
       "living_area_sqft     6\n",
       "dtype: int64"
      ]
     },
     "execution_count": 21,
     "metadata": {},
     "output_type": "execute_result"
    }
   ],
   "source": [
    "df.isnull().sum()"
   ]
  },
  {
   "cell_type": "markdown",
   "id": "fa0c06c3",
   "metadata": {},
   "source": [
    "We shall handle and eradicate all Null values from this dataset to prep it for analysis"
   ]
  },
  {
   "cell_type": "code",
   "execution_count": 25,
   "id": "7e230987",
   "metadata": {},
   "outputs": [],
   "source": [
    "# Price Null rows are completely dropped since they are so few and difficult to approximate the price\n",
    "df = df.dropna(subset=['price'])"
   ]
  },
  {
   "cell_type": "code",
   "execution_count": 26,
   "id": "de405eb8",
   "metadata": {},
   "outputs": [],
   "source": [
    "# For bedrooms I am using the median to fill in the values\n",
    "df['bedrooms'] = df['bedrooms'].fillna(df['bedrooms'].median())"
   ]
  },
  {
   "cell_type": "code",
   "execution_count": 28,
   "id": "9f283e06",
   "metadata": {},
   "outputs": [
    {
     "data": {
      "text/plain": [
       "array([1.  ,  nan, 3.  , 2.  , 4.5 , 2.25, 1.5 , 2.5 , 1.75, 2.75, 3.25,\n",
       "       4.  , 3.5 , 0.75, 4.75, 5.  , 4.25, 3.75, 1.25, 5.25, 6.  , 0.5 ,\n",
       "       5.5 , 6.75, 5.75, 8.  , 7.5 , 7.75, 6.25])"
      ]
     },
     "execution_count": 28,
     "metadata": {},
     "output_type": "execute_result"
    }
   ],
   "source": [
    "# For bathrooms lets check all unique values before deciding how to deal with them\n",
    "df['bathrooms'].unique()"
   ]
  },
  {
   "cell_type": "code",
   "execution_count": 29,
   "id": "1fd3a77e",
   "metadata": {},
   "outputs": [],
   "source": [
    "# For bathrooms I shall choose median as well since it contains decimals\n",
    "df['bathrooms'] = df['bathrooms'].fillna(df['bathrooms'].median())"
   ]
  },
  {
   "cell_type": "code",
   "execution_count": 31,
   "id": "0d710886",
   "metadata": {},
   "outputs": [],
   "source": [
    "# Median for sqft_living and sqft total\n",
    "df['sqft_living'] = df['sqft_living'].fillna(df['sqft_living'].median())\n",
    "df['sqft_total'] = df['sqft_total'].fillna(df['sqft_total'].median())"
   ]
  },
  {
   "cell_type": "code",
   "execution_count": 33,
   "id": "47f4244a",
   "metadata": {},
   "outputs": [],
   "source": [
    "# For condition (which varies from 1 till 5) I am choosing mode since median could give a decimal answer\n",
    "df['condition'] = df['condition'].fillna(df['condition'].mode()[0])"
   ]
  },
  {
   "cell_type": "code",
   "execution_count": 35,
   "id": "e5624e9e",
   "metadata": {},
   "outputs": [],
   "source": [
    "# For built I am choosing median since only one missing value and same for living area sqft\n",
    "df['built'] = df['built'].fillna(df['built'].median())\n",
    "df['living_area_sqft'] = df['living_area_sqft'].fillna(df['living_area_sqft'].median())"
   ]
  },
  {
   "cell_type": "code",
   "execution_count": 36,
   "id": "6a16552e",
   "metadata": {},
   "outputs": [
    {
     "data": {
      "text/plain": [
       "price               0\n",
       "bedrooms            0\n",
       "bathrooms           0\n",
       "sqft_living         0\n",
       "sqft_total          0\n",
       "floors              0\n",
       "condition           0\n",
       "grade               0\n",
       "built               0\n",
       "renovated           0\n",
       "living_area_sqft    0\n",
       "dtype: int64"
      ]
     },
     "execution_count": 36,
     "metadata": {},
     "output_type": "execute_result"
    }
   ],
   "source": [
    "df.isnull().sum()"
   ]
  },
  {
   "cell_type": "markdown",
   "id": "f35d0f1f",
   "metadata": {},
   "source": [
    "Null values have been removed from the dataset via median/mode Null value handling strategies taught in class"
   ]
  },
  {
   "cell_type": "code",
   "execution_count": 37,
   "id": "322e8f53",
   "metadata": {},
   "outputs": [
    {
     "data": {
      "text/plain": [
       "price               float64\n",
       "bedrooms            float64\n",
       "bathrooms           float64\n",
       "sqft_living         float64\n",
       "sqft_total          float64\n",
       "floors              float64\n",
       "condition           float64\n",
       "grade                 int64\n",
       "built               float64\n",
       "renovated             int64\n",
       "living_area_sqft    float64\n",
       "dtype: object"
      ]
     },
     "execution_count": 37,
     "metadata": {},
     "output_type": "execute_result"
    }
   ],
   "source": [
    "df.dtypes"
   ]
  },
  {
   "cell_type": "code",
   "execution_count": 38,
   "id": "63cf2b28",
   "metadata": {},
   "outputs": [
    {
     "name": "stdout",
     "output_type": "stream",
     "text": [
      "<class 'pandas.core.frame.DataFrame'>\n",
      "Index: 19995 entries, 0 to 19998\n",
      "Data columns (total 11 columns):\n",
      " #   Column            Non-Null Count  Dtype  \n",
      "---  ------            --------------  -----  \n",
      " 0   price             19995 non-null  float64\n",
      " 1   bedrooms          19995 non-null  float64\n",
      " 2   bathrooms         19995 non-null  float64\n",
      " 3   sqft_living       19995 non-null  float64\n",
      " 4   sqft_total        19995 non-null  float64\n",
      " 5   floors            19995 non-null  float64\n",
      " 6   condition         19995 non-null  float64\n",
      " 7   grade             19995 non-null  int64  \n",
      " 8   built             19995 non-null  float64\n",
      " 9   renovated         19995 non-null  int64  \n",
      " 10  living_area_sqft  19995 non-null  float64\n",
      "dtypes: float64(9), int64(2)\n",
      "memory usage: 1.8 MB\n"
     ]
    }
   ],
   "source": [
    "df.info()"
   ]
  },
  {
   "cell_type": "code",
   "execution_count": 39,
   "id": "a230a9cc",
   "metadata": {},
   "outputs": [],
   "source": [
    "# Converting all columns with only whole number values from float64 to int64 for efficiency\n",
    "# Not converting Floors and bathrooms since they contain  decimals\n",
    "\n",
    "df['bedrooms'] = df['bedrooms'].astype('int64')           # bedrooms are always whole numbers\n",
    "df['sqft_living'] = df['sqft_living'].astype('int64')     # square footage with no decimals\n",
    "df['sqft_total'] = df['sqft_total'].astype('int64')       # total area, all whole numbers\n",
    "df['condition'] = df['condition'].astype('int64')         # categorical 1–5 scale\n",
    "df['built'] = df['built'].astype('int64')                 # year of construction\n",
    "df['living_area_sqft'] = df['living_area_sqft'].astype('int64')  # whole-number area values"
   ]
  },
  {
   "cell_type": "code",
   "execution_count": null,
   "id": "6d156459",
   "metadata": {},
   "outputs": [],
   "source": []
  }
 ],
 "metadata": {
  "kernelspec": {
   "display_name": "Python 3",
   "language": "python",
   "name": "python3"
  },
  "language_info": {
   "codemirror_mode": {
    "name": "ipython",
    "version": 3
   },
   "file_extension": ".py",
   "mimetype": "text/x-python",
   "name": "python",
   "nbconvert_exporter": "python",
   "pygments_lexer": "ipython3",
   "version": "3.10.11"
  }
 },
 "nbformat": 4,
 "nbformat_minor": 5
}
